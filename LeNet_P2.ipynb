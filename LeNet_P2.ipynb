{
 "cells": [
  {
   "cell_type": "markdown",
   "metadata": {},
   "source": [
    "# LeNet Lab\n",
    "![LeNet Architecture](lenet.png)\n",
    "Source: Yan LeCun"
   ]
  },
  {
   "cell_type": "markdown",
   "metadata": {},
   "source": [
    "## Load Data\n"
   ]
  },
  {
   "cell_type": "code",
   "execution_count": 1,
   "metadata": {},
   "outputs": [
    {
     "name": "stdout",
     "output_type": "stream",
     "text": [
      "\n",
      "Image Shape: (32, 32, 3)\n",
      "\n",
      "Training Set:   34799 samples\n",
      "Validation Set: 4410 samples\n",
      "Test Set:       12630 samples\n"
     ]
    }
   ],
   "source": [
    "# Load pickled data\n",
    "import pickle\n",
    "\n",
    "# TODO: Fill this in based on where you saved the training and testing data\n",
    "\n",
    "training_file = 'train.p'\n",
    "validation_file= 'valid.p'\n",
    "testing_file = 'test.p'\n",
    "\n",
    "with open(training_file, mode='rb') as f:\n",
    "    train = pickle.load(f)\n",
    "with open(validation_file, mode='rb') as f:\n",
    "    valid = pickle.load(f)\n",
    "with open(testing_file, mode='rb') as f:\n",
    "    test = pickle.load(f)\n",
    "    \n",
    "X_train, y_train = train['features'], train['labels']\n",
    "X_valid, y_valid = valid['features'], valid['labels']\n",
    "X_test, y_test = test['features'], test['labels']\n",
    "\n",
    "assert(len(X_train) == len(y_train))\n",
    "assert(len(X_valid) == len(y_valid))\n",
    "assert(len(X_test) == len(y_test))\n",
    "\n",
    "print()\n",
    "print(\"Image Shape: {}\".format(X_train[0].shape))\n",
    "print()\n",
    "print(\"Training Set:   {} samples\".format(len(X_train)))\n",
    "print(\"Validation Set: {} samples\".format(len(X_valid)))\n",
    "print(\"Test Set:       {} samples\".format(len(X_test)))"
   ]
  },
  {
   "cell_type": "markdown",
   "metadata": {},
   "source": [
    "## Visualize Data\n",
    "\n",
    "View a sample from the dataset.\n",
    "\n",
    "You do not need to modify this section."
   ]
  },
  {
   "cell_type": "code",
   "execution_count": 2,
   "metadata": {},
   "outputs": [
    {
     "name": "stdout",
     "output_type": "stream",
     "text": [
      "13\n"
     ]
    },
    {
     "data": {
      "image/png": "[encoded data removed]",
      "text/plain": [
       "<matplotlib.figure.Figure at 0x2303c1915f8>"
      ]
     },
     "metadata": {},
     "output_type": "display_data"
    }
   ],
   "source": [
    "import random\n",
    "import numpy as np\n",
    "import matplotlib.pyplot as plt\n",
    "%matplotlib inline\n",
    "\n",
    "index = random.randint(0, len(X_train))\n",
    "image = X_train[index].squeeze()\n",
    "\n",
    "plt.figure(figsize=(1,1))\n",
    "plt.imshow(image)\n",
    "print(y_train[index])"
   ]
  },
  {
   "cell_type": "markdown",
   "metadata": {},
   "source": [
    "## Preprocess Data\n",
    "\n",
    "Shuffle the training data.\n",
    "\n",
    "You do not need to modify this section."
   ]
  },
  {
   "cell_type": "code",
   "execution_count": 3,
   "metadata": {},
   "outputs": [
    {
     "name": "stdout",
     "output_type": "stream",
     "text": [
      "(34799, 32, 32, 1)\n",
      "(12630, 32, 32, 1)\n",
      "(4410, 32, 32, 1)\n"
     ]
    }
   ],
   "source": [
    "from sklearn.utils import shuffle\n",
    "import cv2\n",
    "\n",
    "X_train, y_train = shuffle(X_train, y_train)\n",
    "\n",
    "def preproc(data):\n",
    "    imgs = np.ndarray((data.shape[0], 32, 32, 1), dtype=np.uint8)\n",
    "    for i, img in enumerate(data):\n",
    "        img = cv2.cvtColor(img, cv2.COLOR_BGR2GRAY)\n",
    "        img = cv2.equalizeHist(img)\n",
    "        img = np.expand_dims(img, axis=2)\n",
    "        imgs[i] = img\n",
    "    return imgs\n",
    "\n",
    "def norm(data):\n",
    "    data = data.astype('float32')\n",
    "    return 0.1 + (data - 0)*(0.9 - 0.1)/(255 - 0)\n",
    "\n",
    "X_train = preproc(X_train)\n",
    "X_test = preproc(X_test)\n",
    "X_valid = preproc(X_valid)\n",
    "\n",
    "X_train = norm(X_train)\n",
    "X_test = norm(X_test)\n",
    "X_valid = norm(X_valid)\n",
    "\n",
    "print(X_train.shape)\n",
    "print(X_test.shape)\n",
    "print(X_valid.shape)"
   ]
  },
  {
   "cell_type": "markdown",
   "metadata": {},
   "source": [
    "## Setup TensorFlow\n",
    "The `EPOCH` and `BATCH_SIZE` values affect the training speed and model accuracy.\n",
    "\n",
    "You do not need to modify this section."
   ]
  },
  {
   "cell_type": "code",
   "execution_count": 4,
   "metadata": {},
   "outputs": [],
   "source": [
    "import tensorflow as tf\n",
    "\n",
    "EPOCHS = 30\n",
    "BATCH_SIZE = 256"
   ]
  },
  {
   "cell_type": "markdown",
   "metadata": {},
   "source": [
    "### LeNet-5 for Traffic Sign recognition\n",
    "Implement the [LeNet-5](http://yann.lecun.com/exdb/lenet/) neural network architecture.\n",
    "\n",
    "### Input\n",
    "The LeNet architecture accepts a 32x32xC image as input, where C is the number of color channels.\n",
    "\n",
    "### Architecture\n",
    "**Layer 1: Convolutional.** The output shape should be 28x28x6.\n",
    "\n",
    "**Activation.** Your choice of activation function.\n",
    "\n",
    "**Pooling.** The output shape should be 14x14x6.\n",
    "\n",
    "**Layer 2: Convolutional.** The output shape should be 10x10x16.\n",
    "\n",
    "**Activation.** Your choice of activation function.\n",
    "\n",
    "**Pooling.** The output shape should be 5x5x16.\n",
    "\n",
    "**Flatten.** Flatten the output shape of the final pooling layer such that it's 1D instead of 3D. The easiest way to do is by using `tf.contrib.layers.flatten`, which is already imported for you.\n",
    "\n",
    "**Layer 3: Fully Connected.** This should have 120 outputs.\n",
    "\n",
    "**Activation.** Your choice of activation function.\n",
    "\n",
    "**Layer 4: Fully Connected.** This should have 84 outputs.\n",
    "\n",
    "**Activation.** Your choice of activation function.\n",
    "\n",
    "**Layer 5: Fully Connected (Logits).** This should have 43 outputs.\n",
    "\n",
    "### Output\n",
    "Return the result of the 2nd fully connected layer."
   ]
  },
  {
   "cell_type": "code",
   "execution_count": 5,
   "metadata": {},
   "outputs": [],
   "source": [
    "from tensorflow.contrib.layers import flatten\n",
    "\n",
    "mu = 0\n",
    "sigma = 0.1\n",
    "keep_prob = tf.placeholder(tf.float32)\n",
    "\n",
    "weights = {\n",
    "    'wc1': tf.Variable(tf.truncated_normal([3, 3, 1, 64], mean = mu, stddev = sigma)),\n",
    "    'wc2': tf.Variable(tf.truncated_normal([3, 3, 64, 128], mean = mu, stddev = sigma)),\n",
    "    'wc3': tf.Variable(tf.truncated_normal([3, 3, 128, 256], mean = mu, stddev = sigma)),\n",
    "    'wc4': tf.Variable(tf.truncated_normal([3, 3, 256, 256], mean = mu, stddev = sigma)),\n",
    "    'wd1': tf.Variable(tf.truncated_normal([4*4*256, 400], mean = mu, stddev = sigma)),\n",
    "    'wd2': tf.Variable(tf.truncated_normal([400, 200], mean = mu, stddev = sigma)),\n",
    "    'out': tf.Variable(tf.truncated_normal([200, 43], mean = mu, stddev = sigma))}\n",
    "\n",
    "biases = {\n",
    "    'bc1': tf.Variable(tf.zeros([64])),\n",
    "    'bc2': tf.Variable(tf.zeros([128])),\n",
    "    'bc3': tf.Variable(tf.zeros([256])),\n",
    "    'bc4': tf.Variable(tf.zeros([256])),\n",
    "    'bd1': tf.Variable(tf.zeros([400])),\n",
    "    'bd2': tf.Variable(tf.zeros([200])),\n",
    "    'out': tf.Variable(tf.zeros([43]))}\n",
    "\n",
    "def LeNet(x):\n",
    "    # Layer 1: Convolutional(32x32x1 >> 32x32x64); Activation(-); Pooling(32x32x64 >> 16x16x64) \n",
    "    conv1 = tf.nn.conv2d(x, weights['wc1'], strides=[1, 1, 1 ,1], padding='SAME') + biases['bc1']\n",
    "    conv1 = tf.nn.relu(conv1)\n",
    "    conv1 = tf.nn.max_pool(conv1, ksize=[1, 2, 2, 1], strides=[1, 2, 2, 1], padding='SAME')\n",
    "    \n",
    "    # Layer 2: Convolutional(16x16x64 >> 16x16x128); Activation(-); Pooling(16x16x128 >> 8x8x128)\n",
    "    conv2 = tf.nn.conv2d(conv1, weights['wc2'], strides=[1, 1, 1 ,1], padding='SAME') + biases['bc2']\n",
    "    conv2 = tf.nn.relu(conv2)\n",
    "    conv2 = tf.nn.max_pool(conv2, ksize=[1, 2, 2, 1], strides=[1, 2, 2, 1], padding='SAME')\n",
    "    \n",
    "    # Layer 3: Convolutional(8x8x128 >> 8x8x256); Activation(-); Dropout(-)\n",
    "    conv3 = tf.nn.conv2d(conv2, weights['wc3'], strides=[1, 1, 1, 1], padding='SAME') + biases['bc3']\n",
    "    conv3 = tf.nn.relu(conv3)\n",
    "    conv3 = tf.nn.dropout(conv3, keep_prob)\n",
    "    \n",
    "    # Layer 4: Convolutional(8x8x256 >> 8x8x256); Activation(-); Pooling(8x8x256 >> 4x4x256)\n",
    "    conv4 = tf.nn.conv2d(conv3, weights['wc4'], strides=[1, 1, 1, 1], padding='SAME') + biases['bc4']\n",
    "    conv4 = tf.nn.relu(conv4)\n",
    "    conv4 = tf.nn.max_pool(conv4, ksize=[1, 2, 2, 1], strides=[1, 2, 2, 1], padding='SAME')\n",
    "    # conv4 = tf.nn.dropout(conv4, keep_prob)\n",
    "    \n",
    "    # Layer 5: Flatten(4x4x256 >> 4096); Fully Connected(4096 >> 400); Activation(-); Dropout(-)\n",
    "    fc1 = flatten(conv4)\n",
    "    fc1 = tf.matmul(fc1, weights['wd1']) + biases['bd1']\n",
    "    fc1 = tf.nn.relu(fc1)\n",
    "    fc1 = tf.nn.dropout(fc1, keep_prob)\n",
    "    \n",
    "    # Layer 6: Fully Connected(400 >> 200); Activation(-); Dropout(-)\n",
    "    fc2 = tf.matmul(fc1, weights['wd2']) + biases['bd2']\n",
    "    fc2 = tf.nn.relu(fc2)\n",
    "    fc2 = tf.nn.dropout(fc2, keep_prob)\n",
    "    \n",
    "    # Layer 7: Fully Connected(200 >> 43)\n",
    "    logits = tf.matmul(fc2, weights['out']) + biases['out']\n",
    "    return logits"
   ]
  },
  {
   "cell_type": "markdown",
   "metadata": {},
   "source": [
    "## Features and Labels\n",
    "Train LeNet to classify [MNIST](http://yann.lecun.com/exdb/mnist/) data.\n",
    "\n",
    "`x` is a placeholder for a batch of input images.\n",
    "`y` is a placeholder for a batch of output labels.\n",
    "\n",
    "You do not need to modify this section."
   ]
  },
  {
   "cell_type": "code",
   "execution_count": 6,
   "metadata": {},
   "outputs": [],
   "source": [
    "x = tf.placeholder(tf.float32, (None, 32, 32, 1))\n",
    "y = tf.placeholder(tf.int32, (None))\n",
    "one_hot_y = tf.one_hot(y, 43)"
   ]
  },
  {
   "cell_type": "markdown",
   "metadata": {},
   "source": [
    "## Training Pipeline\n",
    "Create a training pipeline that uses the model to classify MNIST data.\n",
    "\n",
    "You do not need to modify this section."
   ]
  },
  {
   "cell_type": "code",
   "execution_count": 7,
   "metadata": {},
   "outputs": [],
   "source": [
    "rate = 0.001\n",
    "beta = 0.01\n",
    "\n",
    "logits = LeNet(x)\n",
    "cross_entropy = tf.nn.softmax_cross_entropy_with_logits(labels=one_hot_y, logits=logits)\n",
    "loss_operation = tf.reduce_mean(cross_entropy)\n",
    "## Loss function using L2 Regularization\n",
    "regularizer = tf.nn.l2_loss(weights['wc1']) + tf.nn.l2_loss(weights['wc2']) + tf.nn.l2_loss(weights['wd1']) + \\\n",
    "    tf.nn.l2_loss(weights['wd2']) + tf.nn.l2_loss(weights['out'])\n",
    "loss_operation = tf.reduce_mean(loss_operation + beta * regularizer)\n",
    "optimizer = tf.train.AdamOptimizer(learning_rate = rate)\n",
    "training_operation = optimizer.minimize(loss_operation)"
   ]
  },
  {
   "cell_type": "markdown",
   "metadata": {},
   "source": [
    "## Model Evaluation\n",
    "Evaluate how well the loss and accuracy of the model for a given dataset.\n",
    "\n",
    "You do not need to modify this section."
   ]
  },
  {
   "cell_type": "code",
   "execution_count": 8,
   "metadata": {},
   "outputs": [],
   "source": [
    "correct_prediction = tf.equal(tf.argmax(logits, 1), tf.argmax(one_hot_y, 1))\n",
    "accuracy_operation = tf.reduce_mean(tf.cast(correct_prediction, tf.float32))\n",
    "saver = tf.train.Saver()\n",
    "\n",
    "def evaluate(X_data, y_data):\n",
    "    num_examples = len(X_data)\n",
    "    total_accuracy = 0\n",
    "    sess = tf.get_default_session()\n",
    "    for offset in range(0, num_examples, BATCH_SIZE):\n",
    "        batch_x, batch_y = X_data[offset:offset+BATCH_SIZE], y_data[offset:offset+BATCH_SIZE]\n",
    "        accuracy = sess.run(accuracy_operation, feed_dict={x: batch_x, y: batch_y, keep_prob: 1.0})\n",
    "        total_accuracy += (accuracy * len(batch_x))\n",
    "    return total_accuracy / num_examples"
   ]
  },
  {
   "cell_type": "markdown",
   "metadata": {},
   "source": [
    "## Train the Model\n",
    "Run the training data through the training pipeline to train the model.\n",
    "\n",
    "Before each epoch, shuffle the training set.\n",
    "\n",
    "After each epoch, measure the loss and accuracy of the validation set.\n",
    "\n",
    "Save the model after training.\n",
    "\n",
    "You do not need to modify this section."
   ]
  },
  {
   "cell_type": "code",
   "execution_count": 9,
   "metadata": {},
   "outputs": [
    {
     "name": "stdout",
     "output_type": "stream",
     "text": [
      "Training...\n",
      "\n",
      "EPOCH 1 ...\n",
      "Training Accuracy = 0.125\n",
      "Validation Accuracy = 0.138\n",
      "\n",
      "EPOCH 2 ...\n",
      "Training Accuracy = 0.452\n",
      "Validation Accuracy = 0.421\n",
      "\n",
      "EPOCH 3 ...\n",
      "Training Accuracy = 0.549\n",
      "Validation Accuracy = 0.519\n",
      "\n",
      "EPOCH 4 ...\n",
      "Training Accuracy = 0.667\n",
      "Validation Accuracy = 0.683\n",
      "\n",
      "EPOCH 5 ...\n",
      "Training Accuracy = 0.769\n",
      "Validation Accuracy = 0.780\n",
      "\n",
      "EPOCH 6 ...\n",
      "Training Accuracy = 0.823\n",
      "Validation Accuracy = 0.830\n",
      "\n",
      "EPOCH 7 ...\n",
      "Training Accuracy = 0.851\n",
      "Validation Accuracy = 0.866\n",
      "\n",
      "EPOCH 8 ...\n",
      "Training Accuracy = 0.886\n",
      "Validation Accuracy = 0.900\n",
      "\n",
      "EPOCH 9 ...\n",
      "Training Accuracy = 0.893\n",
      "Validation Accuracy = 0.919\n",
      "\n",
      "EPOCH 10 ...\n",
      "Training Accuracy = 0.909\n",
      "Validation Accuracy = 0.929\n",
      "\n",
      "EPOCH 11 ...\n",
      "Training Accuracy = 0.910\n",
      "Validation Accuracy = 0.936\n",
      "\n",
      "EPOCH 12 ...\n",
      "Training Accuracy = 0.916\n",
      "Validation Accuracy = 0.948\n",
      "\n",
      "EPOCH 13 ...\n",
      "Training Accuracy = 0.924\n",
      "Validation Accuracy = 0.957\n",
      "\n",
      "EPOCH 14 ...\n",
      "Training Accuracy = 0.924\n",
      "Validation Accuracy = 0.959\n",
      "\n",
      "EPOCH 15 ...\n",
      "Training Accuracy = 0.929\n",
      "Validation Accuracy = 0.951\n",
      "\n",
      "EPOCH 16 ...\n",
      "Training Accuracy = 0.929\n",
      "Validation Accuracy = 0.951\n",
      "\n",
      "EPOCH 17 ...\n",
      "Training Accuracy = 0.914\n",
      "Validation Accuracy = 0.936\n",
      "\n",
      "EPOCH 18 ...\n",
      "Training Accuracy = 0.928\n",
      "Validation Accuracy = 0.956\n",
      "\n",
      "EPOCH 19 ...\n",
      "Training Accuracy = 0.929\n",
      "Validation Accuracy = 0.959\n",
      "\n",
      "EPOCH 20 ...\n",
      "Training Accuracy = 0.930\n",
      "Validation Accuracy = 0.965\n",
      "\n",
      "EPOCH 21 ...\n",
      "Training Accuracy = 0.933\n",
      "Validation Accuracy = 0.965\n",
      "\n",
      "EPOCH 22 ...\n",
      "Training Accuracy = 0.942\n",
      "Validation Accuracy = 0.972\n",
      "\n",
      "EPOCH 23 ...\n",
      "Training Accuracy = 0.934\n",
      "Validation Accuracy = 0.962\n",
      "\n",
      "EPOCH 24 ...\n",
      "Training Accuracy = 0.934\n",
      "Validation Accuracy = 0.963\n",
      "\n",
      "EPOCH 25 ...\n",
      "Training Accuracy = 0.936\n",
      "Validation Accuracy = 0.951\n",
      "\n",
      "EPOCH 26 ...\n",
      "Training Accuracy = 0.939\n",
      "Validation Accuracy = 0.971\n",
      "\n",
      "EPOCH 27 ...\n",
      "Training Accuracy = 0.936\n",
      "Validation Accuracy = 0.963\n",
      "\n",
      "EPOCH 28 ...\n",
      "Training Accuracy = 0.940\n",
      "Validation Accuracy = 0.973\n",
      "\n",
      "EPOCH 29 ...\n",
      "Training Accuracy = 0.936\n",
      "Validation Accuracy = 0.961\n",
      "\n",
      "EPOCH 30 ...\n",
      "Training Accuracy = 0.940\n",
      "Validation Accuracy = 0.967\n",
      "\n",
      "Model saved\n"
     ]
    },
    {
     "data": {
      "image/png": "[encoded data removed]",
      "text/plain": [
       "<matplotlib.figure.Figure at 0x2303b022390>"
      ]
     },
     "metadata": {},
     "output_type": "display_data"
    }
   ],
   "source": [
    "train_accuracies = []\n",
    "valid_accuracies = []\n",
    "with tf.Session() as sess:\n",
    "    sess.run(tf.global_variables_initializer())\n",
    "    num_examples = len(X_train)\n",
    "    \n",
    "    print(\"Training...\")\n",
    "    print()\n",
    "    for i in range(EPOCHS):\n",
    "        X_train, y_train = shuffle(X_train, y_train)\n",
    "        for offset in range(0, num_examples, BATCH_SIZE):\n",
    "            end = offset + BATCH_SIZE\n",
    "            batch_x, batch_y = X_train[offset:end], y_train[offset:end]\n",
    "            sess.run(training_operation, feed_dict={x: batch_x, y: batch_y, keep_prob: 0.5})\n",
    "        train_accuracy = evaluate(X_test,y_test)    \n",
    "        valid_accuracy = evaluate(X_valid, y_valid)\n",
    "        train_accuracies.append(train_accuracy*100)\n",
    "        valid_accuracies.append(valid_accuracy*100)\n",
    "        print(\"EPOCH {} ...\".format(i+1))\n",
    "        print(\"Training Accuracy = {:.3f}\".format(train_accuracy))\n",
    "        print(\"Validation Accuracy = {:.3f}\".format(valid_accuracy))\n",
    "        print()\n",
    "        \n",
    "    saver.save(sess, './lenet')\n",
    "    print(\"Model saved\")\n",
    "plt.plot(train_accuracies)\n",
    "plt.plot(valid_accuracies)\n",
    "plt.legend(['train_acc', 'valid_acc'])\n",
    "plt.ylabel('accuracy [%]')\n",
    "plt.xlabel('epoch')\n",
    "plt.show()"
   ]
  },
  {
   "cell_type": "markdown",
   "metadata": {},
   "source": [
    "## Evaluate the Model\n",
    "Once you are completely satisfied with your model, evaluate the performance of the model on the test set.\n",
    "\n",
    "Be sure to only do this once!\n",
    "\n",
    "If you were to measure the performance of your trained model on the test set, then improve your model, and then measure the performance of your model on the test set again, that would invalidate your test results. You wouldn't get a true measure of how well your model would perform against real data.\n",
    "\n",
    "You do not need to modify this section."
   ]
  },
  {
   "cell_type": "code",
   "execution_count": 10,
   "metadata": {},
   "outputs": [
    {
     "name": "stdout",
     "output_type": "stream",
     "text": [
      "INFO:tensorflow:Restoring parameters from .\\lenet\n",
      "Test Accuracy = 0.938\n"
     ]
    }
   ],
   "source": [
    "with tf.Session() as sess:\n",
    "    saver.restore(sess, tf.train.latest_checkpoint('.'))\n",
    "\n",
    "    test_accuracy = evaluate(X_test, y_test)\n",
    "    print(\"Test Accuracy = {:.3f}\".format(test_accuracy))"
   ]
  },
  {
   "cell_type": "code",
   "execution_count": null,
   "metadata": {},
   "outputs": [],
   "source": []
  }
 ],
 "metadata": {
  "anaconda-cloud": {},
  "kernelspec": {
   "display_name": "Python 3",
   "language": "python",
   "name": "python3"
  },
  "language_info": {
   "codemirror_mode": {
    "name": "ipython",
    "version": 3
   },
   "file_extension": ".py",
   "mimetype": "text/x-python",
   "name": "python",
   "nbconvert_exporter": "python",
   "pygments_lexer": "ipython3",
   "version": "3.5.5"
  },
  "widgets": {
   "state": {},
   "version": "1.1.2"
  }
 },
 "nbformat": 4,
 "nbformat_minor": 1
}
